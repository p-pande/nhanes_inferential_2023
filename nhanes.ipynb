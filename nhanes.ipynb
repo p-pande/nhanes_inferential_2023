{
  "nbformat": 4,
  "nbformat_minor": 0,
  "metadata": {
    "colab": {
      "provenance": []
    },
    "kernelspec": {
      "name": "python3",
      "display_name": "Python 3"
    },
    "language_info": {
      "name": "python"
    }
  },
  "cells": [
    {
      "cell_type": "markdown",
      "source": [
        "## Load Files Demographics"
      ],
      "metadata": {
        "id": "jhXcEqfSI8bz"
      }
    },
    {
      "cell_type": "code",
      "execution_count": 2,
      "metadata": {
        "id": "8fBIDxhj4m5p"
      },
      "outputs": [],
      "source": [
        "import pandas as pd"
      ]
    },
    {
      "cell_type": "code",
      "source": [
        "demo = pd.read_sas('https://wwwn.cdc.gov/Nchs/Nhanes/2021-2022/DEMO_L.XPT', format='xport')\n",
        "bp = pd.read_sas('https://wwwn.cdc.gov/Nchs/Nhanes/2021-2022/BPXO_L.XPT', format='xport')\n",
        "body = pd.read_sas('https://wwwn.cdc.gov/Nchs/Nhanes/2021-2022/BMX_L.XPT', format='xport')\n",
        "chol_total = pd.read_sas('https://wwwn.cdc.gov/Nchs/Nhanes/2021-2022/TCHOL_L.XPT', format='xport')\n",
        "exam = pd.read_sas('https://wwwn.cdc.gov/Nchs/Nhanes/2021-2022/BPXO_L.XPT', format='xport')\n",
        "glycohemo = pd.read_sas('https://wwwn.cdc.gov/Nchs/Nhanes/2021-2022/GHB_L.XPT', format='xport')\n",
        "crp = pd.read_sas('https://wwwn.cdc.gov/Nchs/Nhanes/2021-2022/HSCRP_L.XPT', format='xport')\n",
        "dm = pd.read_sas('https://wwwn.cdc.gov/Nchs/Nhanes/2021-2022/DIQ_L.XPT', format='xport')\n",
        "sedentary = pd.read_sas('https://wwwn.cdc.gov/Nchs/Nhanes/2021-2022/PAQ_L.XPT', format='xport')\n",
        "sr_wt = pd.read_sas('https://wwwn.cdc.gov/Nchs/Nhanes/2021-2022/WHQ_L.XPT', format='xport')\n",
        "kidney = pd.read_sas('https://wwwn.cdc.gov/Nchs/Nhanes/2021-2022/KIQ_U_L.XPT', format='xport')"
      ],
      "metadata": {
        "id": "nCmCGaDt412O"
      },
      "execution_count": 59,
      "outputs": []
    },
    {
      "cell_type": "markdown",
      "source": [
        "###### ***Question 1: \"Is there an association between marital status (married or not married) and education level (bachelor’s degree or higher vs. less than a bachelor’s degree)?\"***"
      ],
      "metadata": {
        "id": "2ACa5gKO5vVb"
      }
    },
    {
      "cell_type": "code",
      "source": [
        "## Modify marriage and education data to only use values that we are concerned with\n",
        "\n",
        "marr = demo.loc[demo['DMDMARTZ'] < 4]\n",
        "edu = demo.loc[demo['DMDEDUC2'] < 6]\n",
        "\n",
        "## Replace code values with description\n",
        "mod_marr = marr['DMDMARTZ'].replace({1: 'Married', 2: 'Single', 3: 'Single'})\n",
        "mod_edu = edu['DMDEDUC2'].replace({1: 'Below college', 2: 'Below college', 3: 'Below college', 4: 'College or above', 5: 'College or above'})\n",
        "\n",
        "mod_marr.sample(10)\n",
        "mod_edu.sample(10)\n",
        "\n",
        "## create contingency table\n",
        "cont_table = pd.crosstab(mod_marr, mod_edu)\n",
        "print(cont_table)"
      ],
      "metadata": {
        "colab": {
          "base_uri": "https://localhost:8080/"
        },
        "id": "0AUp5iAM5_QT",
        "outputId": "1bda2da9-cc2e-4e6c-f309-916f627b74fb"
      },
      "execution_count": 21,
      "outputs": [
        {
          "output_type": "stream",
          "name": "stdout",
          "text": [
            "DMDEDUC2  Below college  College or above\n",
            "DMDMARTZ                                 \n",
            "Married            1352              2782\n",
            "Single             1431              2207\n"
          ]
        }
      ]
    },
    {
      "cell_type": "code",
      "source": [
        "from scipy.stats import chi2_contingency\n",
        "\n",
        "stat, p_value, dof, expected = chi2_contingency(cont_table)\n",
        "\n",
        "print(\"Chi-square statistic:\", {stat})\n",
        "print(\"P-value:\", {p_value})\n",
        "print(\"Expected frequencies:\", expected)\n",
        "\n",
        "if p_value > 0.05:\n",
        "    print(\"No significant association between marital status and education level.\")\n",
        "else:\n",
        "    print(\"Significant association between marital status and education level.\")"
      ],
      "metadata": {
        "colab": {
          "base_uri": "https://localhost:8080/"
        },
        "id": "msyOy2VwDwnJ",
        "outputId": "bdc36937-e0e4-4820-b8e1-b19884dd062c"
      },
      "execution_count": 30,
      "outputs": [
        {
          "output_type": "stream",
          "name": "stdout",
          "text": [
            "Chi-square statistic: {36.72203920845173}\n",
            "P-value: {1.3623057407211713e-09}\n",
            "Expected frequencies: [[1480.30391148 2653.69608852]\n",
            " [1302.69608852 2335.30391148]]\n",
            "Significant association between marital status and education level.\n"
          ]
        }
      ]
    },
    {
      "cell_type": "markdown",
      "source": [
        "###### ***Question 2: \"Is there a difference in the mean sedentary behavior time between those who are married and those who are not married?\"***"
      ],
      "metadata": {
        "id": "JBsokesQG2eD"
      }
    },
    {
      "cell_type": "code",
      "source": [
        "from scipy.stats import ttest_ind\n",
        "\n",
        "# Filter and prepare marital status data\n",
        "demo_filtered = demo.loc[demo['DMDMARTZ'] < 4]\n",
        "demo_filtered['Marital_Status'] = demo_filtered['DMDMARTZ'].replace({1: 'Married', 2: 'Single', 3: 'Single'})\n",
        "\n",
        "\n",
        "# Merge demo and sedentary data on a common identifier\n",
        "merged_data = pd.merge(demo_filtered[['SEQN', 'Marital_Status']], sedentary[['SEQN', 'PAD680']], on='SEQN')\n",
        "\n",
        "# Filter for valid sedentary behavior times\n",
        "merged_data = merged_data[merged_data['PAD680'] <= 1380]\n",
        "\n",
        "# Separate sedentary behavior times by marital status\n",
        "married_sedentary = merged_data.loc[merged_data['Marital_Status'] == 'Married', 'PAD680']\n",
        "not_married_sedentary = merged_data.loc[merged_data['Marital_Status'] == 'Single', 'PAD680']\n",
        "\n",
        "# Perform independent t-test\n",
        "stat, p_value = ttest_ind(married_sedentary, not_married_sedentary)\n",
        "print(f\"Independent t-Test Statistic: {stat}, p-value: {p_value}\")\n",
        "\n",
        "if p_value > 0.05:\n",
        "    print(\"No significant difference in sedentary behavior time between married and not-married individuals.\")\n",
        "else:\n",
        "    print(\"Significant difference in sedentary behavior time between married and not-married individuals.\")"
      ],
      "metadata": {
        "colab": {
          "base_uri": "https://localhost:8080/"
        },
        "id": "Md2gvU9QG56P",
        "outputId": "0f39d86e-0726-428d-b02a-e25b4c5f1c51"
      },
      "execution_count": 39,
      "outputs": [
        {
          "output_type": "stream",
          "name": "stdout",
          "text": [
            "Independent t-Test Statistic: -3.8699896847970154, p-value: 0.00010973792037934772\n",
            "Significant difference in sedentary behavior time between married and not-married individuals.\n"
          ]
        },
        {
          "output_type": "stream",
          "name": "stderr",
          "text": [
            "<ipython-input-39-a27f8fffcff2>:5: SettingWithCopyWarning: \n",
            "A value is trying to be set on a copy of a slice from a DataFrame.\n",
            "Try using .loc[row_indexer,col_indexer] = value instead\n",
            "\n",
            "See the caveats in the documentation: https://pandas.pydata.org/pandas-docs/stable/user_guide/indexing.html#returning-a-view-versus-a-copy\n",
            "  demo_filtered['Marital_Status'] = demo_filtered['DMDMARTZ'].replace({1: 'Married', 2: 'Single', 3: 'Single'})\n"
          ]
        }
      ]
    },
    {
      "cell_type": "markdown",
      "source": [
        "###### ***Question 3: \"How do age and marital status affect systolic blood pressure?\"\"***"
      ],
      "metadata": {
        "id": "bRuhsYo5OhNw"
      }
    },
    {
      "cell_type": "code",
      "source": [
        "import statsmodels.api as sm\n",
        "from statsmodels.formula.api import ols\n",
        "\n",
        "# Select the relevant columns\n",
        "age_data = demo['RIDAGEYR']  # Age column\n",
        "marital_status = demo['DMDMARTZ'].replace({1: 'Married', 2: 'Single', 3: 'Single'})  # Cleaned marital status data\n",
        "systolic_bp = exam['BPXOSY3'].dropna()  # Systolic blood pressure column with missing values dropped\n",
        "\n",
        "# Combine selected data into a single DataFrame\n",
        "anova_data = pd.concat([age_data, marital_status, systolic_bp], axis=1)\n",
        "anova_data.columns = ['Age', 'Marital_Status', 'Systolic_BP']  # Renaming for clarity\n",
        "\n",
        "# Fit an ANOVA model to analyze the effect of age and marital status on systolic blood pressure\n",
        "model = ols('Systolic_BP ~ Age + Marital_Status', data=anova_data).fit()\n",
        "anova_results = sm.stats.anova_lm(model, typ=2)\n",
        "\n",
        "# Display ANOVA table and model summary\n",
        "print(anova_results)\n",
        "print(model.summary())\n",
        "\n",
        "# Interpretation based on p-value from ANOVA\n",
        "p_value = anova_results['PR(>F)'][0]  # Extract p-value for 'Age' (you may need to adjust index for specific p-value)\n",
        "if p_value > 0.05:\n",
        "    print(\"No significant effect of age and marital status on systolic blood pressure.\")\n",
        "else:\n",
        "    print(\"Significant effect of age and marital status on systolic blood pressure.\")\n"
      ],
      "metadata": {
        "colab": {
          "base_uri": "https://localhost:8080/"
        },
        "id": "u39KPeY6OmsC",
        "outputId": "5cf06a81-2d4e-4035-f4ab-ffea3b26a546"
      },
      "execution_count": 42,
      "outputs": [
        {
          "output_type": "stream",
          "name": "stdout",
          "text": [
            "                      sum_sq      df         F    PR(>F)\n",
            "Marital_Status  3.149985e+02     3.0  0.299184  0.826016\n",
            "Age             9.214067e+01     1.0  0.262544  0.608401\n",
            "Residual        1.711948e+06  4878.0       NaN       NaN\n",
            "                            OLS Regression Results                            \n",
            "==============================================================================\n",
            "Dep. Variable:            Systolic_BP   R-squared:                       0.000\n",
            "Model:                            OLS   Adj. R-squared:                 -0.001\n",
            "Method:                 Least Squares   F-statistic:                    0.2872\n",
            "Date:                Thu, 07 Nov 2024   Prob (F-statistic):              0.886\n",
            "Time:                        06:07:15   Log-Likelihood:                -21235.\n",
            "No. Observations:                4883   AIC:                         4.248e+04\n",
            "Df Residuals:                    4878   BIC:                         4.251e+04\n",
            "Df Model:                           4                                         \n",
            "Covariance Type:            nonrobust                                         \n",
            "=============================================================================================\n",
            "                                coef    std err          t      P>|t|      [0.025      0.975]\n",
            "---------------------------------------------------------------------------------------------\n",
            "Intercept                   127.6357     10.839     11.775      0.000     106.386     148.886\n",
            "Marital_Status[T.99.0]       -5.0681     14.309     -0.354      0.723     -33.120      22.983\n",
            "Marital_Status[T.Married]    -9.1106     10.823     -0.842      0.400     -30.328      12.107\n",
            "Marital_Status[T.Single]     -9.0602     10.824     -0.837      0.403     -30.279      12.159\n",
            "Age                           0.0079      0.015      0.512      0.608      -0.022       0.038\n",
            "==============================================================================\n",
            "Omnibus:                      799.829   Durbin-Watson:                   2.031\n",
            "Prob(Omnibus):                  0.000   Jarque-Bera (JB):             1620.487\n",
            "Skew:                           0.987   Prob(JB):                         0.00\n",
            "Kurtosis:                       5.017   Cond. No.                     4.67e+03\n",
            "==============================================================================\n",
            "\n",
            "Notes:\n",
            "[1] Standard Errors assume that the covariance matrix of the errors is correctly specified.\n",
            "[2] The condition number is large, 4.67e+03. This might indicate that there are\n",
            "strong multicollinearity or other numerical problems.\n",
            "No significant effect of age and marital status on systolic blood pressure.\n"
          ]
        },
        {
          "output_type": "stream",
          "name": "stderr",
          "text": [
            "<ipython-input-42-4e6f9dd709be>:22: FutureWarning: Series.__getitem__ treating keys as positions is deprecated. In a future version, integer keys will always be treated as labels (consistent with DataFrame behavior). To access a value by position, use `ser.iloc[pos]`\n",
            "  p_value = anova_results['PR(>F)'][0]  # Extract p-value for 'Age' (you may need to adjust index for specific p-value)\n"
          ]
        }
      ]
    },
    {
      "cell_type": "markdown",
      "source": [
        "###### ***Question 4: \"Is there a correlation between self-reported weight and minutes of sedentary behavior?\"\"***"
      ],
      "metadata": {
        "id": "4VNb6ibsPROH"
      }
    },
    {
      "cell_type": "code",
      "source": [
        "from scipy.stats import pearsonr\n",
        "from scipy.stats import spearmanr\n",
        "\n",
        "weight_data = sr_wt.loc[sr_wt['WHD020'] <=530]\n",
        "sedentary_data = sedentary['PAD680'].dropna()\n",
        "\n",
        "# Ensure both variables have the same length (aligning by index)\n",
        "aligned_data = pd.concat([weight_data, sedentary_data], axis=1, join='inner')\n",
        "aligned_data.columns = ['Weight', 'Sedentary_Time']\n",
        "\n",
        "# Calculate Pearson correlation\n",
        "correlation, p_value = pearsonr(aligned_data['Weight'], aligned_data['Sedentary_Time'])\n",
        "\n",
        "# Display the results\n",
        "print(f\"Pearson correlation coefficient: {correlation}\")\n",
        "print(f\"P-value: {p_value}\")\n",
        "\n",
        "# Interpretation of the correlation\n",
        "if p_value > 0.05:\n",
        "    print(\"There is no significant correlation between self-reported weight and minutes of sedentary behavior.\")\n",
        "else:\n",
        "    print(\"There is a significant correlation between self-reported weight and minutes of sedentary behavior.\")\n"
      ],
      "metadata": {
        "colab": {
          "base_uri": "https://localhost:8080/",
          "height": 391
        },
        "id": "7Fmd7UNHPVsP",
        "outputId": "e328abd5-8619-4cb3-aaac-0c3181a3a1a9"
      },
      "execution_count": 58,
      "outputs": [
        {
          "output_type": "error",
          "ename": "ValueError",
          "evalue": "Length mismatch: Expected axis has 6 elements, new values have 2 elements",
          "traceback": [
            "\u001b[0;31m---------------------------------------------------------------------------\u001b[0m",
            "\u001b[0;31mValueError\u001b[0m                                Traceback (most recent call last)",
            "\u001b[0;32m<ipython-input-58-3f353082c747>\u001b[0m in \u001b[0;36m<cell line: 9>\u001b[0;34m()\u001b[0m\n\u001b[1;32m      7\u001b[0m \u001b[0;31m# Ensure both variables have the same length (aligning by index)\u001b[0m\u001b[0;34m\u001b[0m\u001b[0;34m\u001b[0m\u001b[0m\n\u001b[1;32m      8\u001b[0m \u001b[0maligned_data\u001b[0m \u001b[0;34m=\u001b[0m \u001b[0mpd\u001b[0m\u001b[0;34m.\u001b[0m\u001b[0mconcat\u001b[0m\u001b[0;34m(\u001b[0m\u001b[0;34m[\u001b[0m\u001b[0mweight_data\u001b[0m\u001b[0;34m,\u001b[0m \u001b[0msedentary_data\u001b[0m\u001b[0;34m]\u001b[0m\u001b[0;34m,\u001b[0m \u001b[0maxis\u001b[0m\u001b[0;34m=\u001b[0m\u001b[0;36m1\u001b[0m\u001b[0;34m,\u001b[0m \u001b[0mjoin\u001b[0m\u001b[0;34m=\u001b[0m\u001b[0;34m'inner'\u001b[0m\u001b[0;34m)\u001b[0m\u001b[0;34m\u001b[0m\u001b[0;34m\u001b[0m\u001b[0m\n\u001b[0;32m----> 9\u001b[0;31m \u001b[0maligned_data\u001b[0m\u001b[0;34m.\u001b[0m\u001b[0mcolumns\u001b[0m \u001b[0;34m=\u001b[0m \u001b[0;34m[\u001b[0m\u001b[0;34m'Weight'\u001b[0m\u001b[0;34m,\u001b[0m \u001b[0;34m'Sedentary_Time'\u001b[0m\u001b[0;34m]\u001b[0m\u001b[0;34m\u001b[0m\u001b[0;34m\u001b[0m\u001b[0m\n\u001b[0m\u001b[1;32m     10\u001b[0m \u001b[0;34m\u001b[0m\u001b[0m\n\u001b[1;32m     11\u001b[0m \u001b[0;31m# Calculate Pearson correlation\u001b[0m\u001b[0;34m\u001b[0m\u001b[0;34m\u001b[0m\u001b[0m\n",
            "\u001b[0;32m/usr/local/lib/python3.10/dist-packages/pandas/core/generic.py\u001b[0m in \u001b[0;36m__setattr__\u001b[0;34m(self, name, value)\u001b[0m\n\u001b[1;32m   6311\u001b[0m         \u001b[0;32mtry\u001b[0m\u001b[0;34m:\u001b[0m\u001b[0;34m\u001b[0m\u001b[0;34m\u001b[0m\u001b[0m\n\u001b[1;32m   6312\u001b[0m             \u001b[0mobject\u001b[0m\u001b[0;34m.\u001b[0m\u001b[0m__getattribute__\u001b[0m\u001b[0;34m(\u001b[0m\u001b[0mself\u001b[0m\u001b[0;34m,\u001b[0m \u001b[0mname\u001b[0m\u001b[0;34m)\u001b[0m\u001b[0;34m\u001b[0m\u001b[0;34m\u001b[0m\u001b[0m\n\u001b[0;32m-> 6313\u001b[0;31m             \u001b[0;32mreturn\u001b[0m \u001b[0mobject\u001b[0m\u001b[0;34m.\u001b[0m\u001b[0m__setattr__\u001b[0m\u001b[0;34m(\u001b[0m\u001b[0mself\u001b[0m\u001b[0;34m,\u001b[0m \u001b[0mname\u001b[0m\u001b[0;34m,\u001b[0m \u001b[0mvalue\u001b[0m\u001b[0;34m)\u001b[0m\u001b[0;34m\u001b[0m\u001b[0;34m\u001b[0m\u001b[0m\n\u001b[0m\u001b[1;32m   6314\u001b[0m         \u001b[0;32mexcept\u001b[0m \u001b[0mAttributeError\u001b[0m\u001b[0;34m:\u001b[0m\u001b[0;34m\u001b[0m\u001b[0;34m\u001b[0m\u001b[0m\n\u001b[1;32m   6315\u001b[0m             \u001b[0;32mpass\u001b[0m\u001b[0;34m\u001b[0m\u001b[0;34m\u001b[0m\u001b[0m\n",
            "\u001b[0;32mproperties.pyx\u001b[0m in \u001b[0;36mpandas._libs.properties.AxisProperty.__set__\u001b[0;34m()\u001b[0m\n",
            "\u001b[0;32m/usr/local/lib/python3.10/dist-packages/pandas/core/generic.py\u001b[0m in \u001b[0;36m_set_axis\u001b[0;34m(self, axis, labels)\u001b[0m\n\u001b[1;32m    812\u001b[0m         \"\"\"\n\u001b[1;32m    813\u001b[0m         \u001b[0mlabels\u001b[0m \u001b[0;34m=\u001b[0m \u001b[0mensure_index\u001b[0m\u001b[0;34m(\u001b[0m\u001b[0mlabels\u001b[0m\u001b[0;34m)\u001b[0m\u001b[0;34m\u001b[0m\u001b[0;34m\u001b[0m\u001b[0m\n\u001b[0;32m--> 814\u001b[0;31m         \u001b[0mself\u001b[0m\u001b[0;34m.\u001b[0m\u001b[0m_mgr\u001b[0m\u001b[0;34m.\u001b[0m\u001b[0mset_axis\u001b[0m\u001b[0;34m(\u001b[0m\u001b[0maxis\u001b[0m\u001b[0;34m,\u001b[0m \u001b[0mlabels\u001b[0m\u001b[0;34m)\u001b[0m\u001b[0;34m\u001b[0m\u001b[0;34m\u001b[0m\u001b[0m\n\u001b[0m\u001b[1;32m    815\u001b[0m         \u001b[0mself\u001b[0m\u001b[0;34m.\u001b[0m\u001b[0m_clear_item_cache\u001b[0m\u001b[0;34m(\u001b[0m\u001b[0;34m)\u001b[0m\u001b[0;34m\u001b[0m\u001b[0;34m\u001b[0m\u001b[0m\n\u001b[1;32m    816\u001b[0m \u001b[0;34m\u001b[0m\u001b[0m\n",
            "\u001b[0;32m/usr/local/lib/python3.10/dist-packages/pandas/core/internals/managers.py\u001b[0m in \u001b[0;36mset_axis\u001b[0;34m(self, axis, new_labels)\u001b[0m\n\u001b[1;32m    236\u001b[0m     \u001b[0;32mdef\u001b[0m \u001b[0mset_axis\u001b[0m\u001b[0;34m(\u001b[0m\u001b[0mself\u001b[0m\u001b[0;34m,\u001b[0m \u001b[0maxis\u001b[0m\u001b[0;34m:\u001b[0m \u001b[0mAxisInt\u001b[0m\u001b[0;34m,\u001b[0m \u001b[0mnew_labels\u001b[0m\u001b[0;34m:\u001b[0m \u001b[0mIndex\u001b[0m\u001b[0;34m)\u001b[0m \u001b[0;34m->\u001b[0m \u001b[0;32mNone\u001b[0m\u001b[0;34m:\u001b[0m\u001b[0;34m\u001b[0m\u001b[0;34m\u001b[0m\u001b[0m\n\u001b[1;32m    237\u001b[0m         \u001b[0;31m# Caller is responsible for ensuring we have an Index object.\u001b[0m\u001b[0;34m\u001b[0m\u001b[0;34m\u001b[0m\u001b[0m\n\u001b[0;32m--> 238\u001b[0;31m         \u001b[0mself\u001b[0m\u001b[0;34m.\u001b[0m\u001b[0m_validate_set_axis\u001b[0m\u001b[0;34m(\u001b[0m\u001b[0maxis\u001b[0m\u001b[0;34m,\u001b[0m \u001b[0mnew_labels\u001b[0m\u001b[0;34m)\u001b[0m\u001b[0;34m\u001b[0m\u001b[0;34m\u001b[0m\u001b[0m\n\u001b[0m\u001b[1;32m    239\u001b[0m         \u001b[0mself\u001b[0m\u001b[0;34m.\u001b[0m\u001b[0maxes\u001b[0m\u001b[0;34m[\u001b[0m\u001b[0maxis\u001b[0m\u001b[0;34m]\u001b[0m \u001b[0;34m=\u001b[0m \u001b[0mnew_labels\u001b[0m\u001b[0;34m\u001b[0m\u001b[0;34m\u001b[0m\u001b[0m\n\u001b[1;32m    240\u001b[0m \u001b[0;34m\u001b[0m\u001b[0m\n",
            "\u001b[0;32m/usr/local/lib/python3.10/dist-packages/pandas/core/internals/base.py\u001b[0m in \u001b[0;36m_validate_set_axis\u001b[0;34m(self, axis, new_labels)\u001b[0m\n\u001b[1;32m     96\u001b[0m \u001b[0;34m\u001b[0m\u001b[0m\n\u001b[1;32m     97\u001b[0m         \u001b[0;32melif\u001b[0m \u001b[0mnew_len\u001b[0m \u001b[0;34m!=\u001b[0m \u001b[0mold_len\u001b[0m\u001b[0;34m:\u001b[0m\u001b[0;34m\u001b[0m\u001b[0;34m\u001b[0m\u001b[0m\n\u001b[0;32m---> 98\u001b[0;31m             raise ValueError(\n\u001b[0m\u001b[1;32m     99\u001b[0m                 \u001b[0;34mf\"Length mismatch: Expected axis has {old_len} elements, new \"\u001b[0m\u001b[0;34m\u001b[0m\u001b[0;34m\u001b[0m\u001b[0m\n\u001b[1;32m    100\u001b[0m                 \u001b[0;34mf\"values have {new_len} elements\"\u001b[0m\u001b[0;34m\u001b[0m\u001b[0;34m\u001b[0m\u001b[0m\n",
            "\u001b[0;31mValueError\u001b[0m: Length mismatch: Expected axis has 6 elements, new values have 2 elements"
          ]
        }
      ]
    },
    {
      "cell_type": "markdown",
      "source": [
        "###### ***Question 5 (Creative Analysis): Develop your own unique question using at least one of the variables listed above. Ensure that your question can be answered using one of the following tests: chi-square, t-test, ANOVA, or correlation. Clearly state your question, explain why you chose the test, and document your findings.***\n",
        "\n",
        "- Is there a relationship between age and the presence of failing kidneys?"
      ],
      "metadata": {
        "id": "ubE_2OBiSttP"
      }
    },
    {
      "cell_type": "code",
      "source": [
        "import pandas as pd\n",
        "from scipy.stats import ttest_ind\n",
        "\n",
        "# Assuming the necessary data is loaded into 'demo' DataFrame\n",
        "\n",
        "# Step 1: Recode weak/failing kidneys status (KIQ022)\n",
        "demo['Kidney_Status'] = demo['KIQ022'].apply(\n",
        "    lambda x: 'Failing Kidneys' if x == 1 else 'No Failing Kidneys'\n",
        ")\n",
        "\n",
        "# Step 2: Clean age data (RIDAGEYR) and remove missing values\n",
        "demo_clean = demo[['RIDAGEYR', 'Kidney_Status']].dropna(subset=['RIDAGEYR'])\n",
        "\n",
        "# Step 3: Group by kidney status\n",
        "failing_kidneys = demo_clean[demo_clean['Kidney_Status'] == 'Failing Kidneys']['RIDAGEYR']\n",
        "no_failing_kidneys = demo_clean[demo_clean['Kidney_Status'] == 'No Failing Kidneys']['RIDAGEYR']\n",
        "\n",
        "# Step 4: Perform an independent t-test\n",
        "stat, p_value = ttest_ind(failing_kidneys, no_failing_kidneys)\n",
        "\n",
        "# Step 5: Display results\n",
        "print(f\"T-Test Statistic: {stat}\")\n",
        "print(f\"P-value: {p_value}\")\n",
        "\n",
        "# Step 6: Interpretation\n",
        "if p_value > 0.05:\n",
        "    print(\"There is no significant difference in age between individuals with and without failing kidneys.\")\n",
        "else:\n",
        "    print(\"There is a significant difference in age between individuals with and without failing kidneys.\")\n",
        "\n"
      ],
      "metadata": {
        "colab": {
          "base_uri": "https://localhost:8080/",
          "height": 547
        },
        "id": "NSaoF_4SSq7F",
        "outputId": "36a03694-e574-49bf-8cd6-f6ccc26fac08"
      },
      "execution_count": 61,
      "outputs": [
        {
          "output_type": "error",
          "ename": "KeyError",
          "evalue": "'KIQ022'",
          "traceback": [
            "\u001b[0;31m---------------------------------------------------------------------------\u001b[0m",
            "\u001b[0;31mKeyError\u001b[0m                                  Traceback (most recent call last)",
            "\u001b[0;32m/usr/local/lib/python3.10/dist-packages/pandas/core/indexes/base.py\u001b[0m in \u001b[0;36mget_loc\u001b[0;34m(self, key)\u001b[0m\n\u001b[1;32m   3804\u001b[0m         \u001b[0;32mtry\u001b[0m\u001b[0;34m:\u001b[0m\u001b[0;34m\u001b[0m\u001b[0;34m\u001b[0m\u001b[0m\n\u001b[0;32m-> 3805\u001b[0;31m             \u001b[0;32mreturn\u001b[0m \u001b[0mself\u001b[0m\u001b[0;34m.\u001b[0m\u001b[0m_engine\u001b[0m\u001b[0;34m.\u001b[0m\u001b[0mget_loc\u001b[0m\u001b[0;34m(\u001b[0m\u001b[0mcasted_key\u001b[0m\u001b[0;34m)\u001b[0m\u001b[0;34m\u001b[0m\u001b[0;34m\u001b[0m\u001b[0m\n\u001b[0m\u001b[1;32m   3806\u001b[0m         \u001b[0;32mexcept\u001b[0m \u001b[0mKeyError\u001b[0m \u001b[0;32mas\u001b[0m \u001b[0merr\u001b[0m\u001b[0;34m:\u001b[0m\u001b[0;34m\u001b[0m\u001b[0;34m\u001b[0m\u001b[0m\n",
            "\u001b[0;32mindex.pyx\u001b[0m in \u001b[0;36mpandas._libs.index.IndexEngine.get_loc\u001b[0;34m()\u001b[0m\n",
            "\u001b[0;32mindex.pyx\u001b[0m in \u001b[0;36mpandas._libs.index.IndexEngine.get_loc\u001b[0;34m()\u001b[0m\n",
            "\u001b[0;32mpandas/_libs/hashtable_class_helper.pxi\u001b[0m in \u001b[0;36mpandas._libs.hashtable.PyObjectHashTable.get_item\u001b[0;34m()\u001b[0m\n",
            "\u001b[0;32mpandas/_libs/hashtable_class_helper.pxi\u001b[0m in \u001b[0;36mpandas._libs.hashtable.PyObjectHashTable.get_item\u001b[0;34m()\u001b[0m\n",
            "\u001b[0;31mKeyError\u001b[0m: 'KIQ022'",
            "\nThe above exception was the direct cause of the following exception:\n",
            "\u001b[0;31mKeyError\u001b[0m                                  Traceback (most recent call last)",
            "\u001b[0;32m<ipython-input-61-9174a0f43adb>\u001b[0m in \u001b[0;36m<cell line: 7>\u001b[0;34m()\u001b[0m\n\u001b[1;32m      5\u001b[0m \u001b[0;34m\u001b[0m\u001b[0m\n\u001b[1;32m      6\u001b[0m \u001b[0;31m# Step 1: Recode weak/failing kidneys status (KIQ022)\u001b[0m\u001b[0;34m\u001b[0m\u001b[0;34m\u001b[0m\u001b[0m\n\u001b[0;32m----> 7\u001b[0;31m demo['Kidney_Status'] = demo['KIQ022'].apply(\n\u001b[0m\u001b[1;32m      8\u001b[0m     \u001b[0;32mlambda\u001b[0m \u001b[0mx\u001b[0m\u001b[0;34m:\u001b[0m \u001b[0;34m'Failing Kidneys'\u001b[0m \u001b[0;32mif\u001b[0m \u001b[0mx\u001b[0m \u001b[0;34m==\u001b[0m \u001b[0;36m1\u001b[0m \u001b[0;32melse\u001b[0m \u001b[0;34m'No Failing Kidneys'\u001b[0m\u001b[0;34m\u001b[0m\u001b[0;34m\u001b[0m\u001b[0m\n\u001b[1;32m      9\u001b[0m )\n",
            "\u001b[0;32m/usr/local/lib/python3.10/dist-packages/pandas/core/frame.py\u001b[0m in \u001b[0;36m__getitem__\u001b[0;34m(self, key)\u001b[0m\n\u001b[1;32m   4100\u001b[0m             \u001b[0;32mif\u001b[0m \u001b[0mself\u001b[0m\u001b[0;34m.\u001b[0m\u001b[0mcolumns\u001b[0m\u001b[0;34m.\u001b[0m\u001b[0mnlevels\u001b[0m \u001b[0;34m>\u001b[0m \u001b[0;36m1\u001b[0m\u001b[0;34m:\u001b[0m\u001b[0;34m\u001b[0m\u001b[0;34m\u001b[0m\u001b[0m\n\u001b[1;32m   4101\u001b[0m                 \u001b[0;32mreturn\u001b[0m \u001b[0mself\u001b[0m\u001b[0;34m.\u001b[0m\u001b[0m_getitem_multilevel\u001b[0m\u001b[0;34m(\u001b[0m\u001b[0mkey\u001b[0m\u001b[0;34m)\u001b[0m\u001b[0;34m\u001b[0m\u001b[0;34m\u001b[0m\u001b[0m\n\u001b[0;32m-> 4102\u001b[0;31m             \u001b[0mindexer\u001b[0m \u001b[0;34m=\u001b[0m \u001b[0mself\u001b[0m\u001b[0;34m.\u001b[0m\u001b[0mcolumns\u001b[0m\u001b[0;34m.\u001b[0m\u001b[0mget_loc\u001b[0m\u001b[0;34m(\u001b[0m\u001b[0mkey\u001b[0m\u001b[0;34m)\u001b[0m\u001b[0;34m\u001b[0m\u001b[0;34m\u001b[0m\u001b[0m\n\u001b[0m\u001b[1;32m   4103\u001b[0m             \u001b[0;32mif\u001b[0m \u001b[0mis_integer\u001b[0m\u001b[0;34m(\u001b[0m\u001b[0mindexer\u001b[0m\u001b[0;34m)\u001b[0m\u001b[0;34m:\u001b[0m\u001b[0;34m\u001b[0m\u001b[0;34m\u001b[0m\u001b[0m\n\u001b[1;32m   4104\u001b[0m                 \u001b[0mindexer\u001b[0m \u001b[0;34m=\u001b[0m \u001b[0;34m[\u001b[0m\u001b[0mindexer\u001b[0m\u001b[0;34m]\u001b[0m\u001b[0;34m\u001b[0m\u001b[0;34m\u001b[0m\u001b[0m\n",
            "\u001b[0;32m/usr/local/lib/python3.10/dist-packages/pandas/core/indexes/base.py\u001b[0m in \u001b[0;36mget_loc\u001b[0;34m(self, key)\u001b[0m\n\u001b[1;32m   3810\u001b[0m             ):\n\u001b[1;32m   3811\u001b[0m                 \u001b[0;32mraise\u001b[0m \u001b[0mInvalidIndexError\u001b[0m\u001b[0;34m(\u001b[0m\u001b[0mkey\u001b[0m\u001b[0;34m)\u001b[0m\u001b[0;34m\u001b[0m\u001b[0;34m\u001b[0m\u001b[0m\n\u001b[0;32m-> 3812\u001b[0;31m             \u001b[0;32mraise\u001b[0m \u001b[0mKeyError\u001b[0m\u001b[0;34m(\u001b[0m\u001b[0mkey\u001b[0m\u001b[0;34m)\u001b[0m \u001b[0;32mfrom\u001b[0m \u001b[0merr\u001b[0m\u001b[0;34m\u001b[0m\u001b[0;34m\u001b[0m\u001b[0m\n\u001b[0m\u001b[1;32m   3813\u001b[0m         \u001b[0;32mexcept\u001b[0m \u001b[0mTypeError\u001b[0m\u001b[0;34m:\u001b[0m\u001b[0;34m\u001b[0m\u001b[0;34m\u001b[0m\u001b[0m\n\u001b[1;32m   3814\u001b[0m             \u001b[0;31m# If we have a listlike key, _check_indexing_error will raise\u001b[0m\u001b[0;34m\u001b[0m\u001b[0;34m\u001b[0m\u001b[0m\n",
            "\u001b[0;31mKeyError\u001b[0m: 'KIQ022'"
          ]
        }
      ]
    }
  ]
}